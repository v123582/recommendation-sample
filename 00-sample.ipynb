{
 "cells": [
  {
   "cell_type": "markdown",
   "metadata": {},
   "source": [
    "# Sample Code"
   ]
  },
  {
   "cell_type": "markdown",
   "metadata": {},
   "source": [
    "## 載入資料"
   ]
  },
  {
   "cell_type": "code",
   "execution_count": 1,
   "metadata": {},
   "outputs": [
    {
     "name": "stderr",
     "output_type": "stream",
     "text": [
      "/Users/wei/.virtualenvs/py3/lib/python3.6/site-packages/pandas/compat/__init__.py:120: UserWarning: Could not import the lzma module. Your installed Python is incomplete. Attempting to use lzma compression will result in a RuntimeError.\n",
      "  warnings.warn(msg)\n"
     ]
    }
   ],
   "source": [
    "import pandas as pd\n",
    "import numpy as np"
   ]
  },
  {
   "cell_type": "code",
   "execution_count": 2,
   "metadata": {},
   "outputs": [
    {
     "data": {
      "text/html": [
       "<div>\n",
       "<style scoped>\n",
       "    .dataframe tbody tr th:only-of-type {\n",
       "        vertical-align: middle;\n",
       "    }\n",
       "\n",
       "    .dataframe tbody tr th {\n",
       "        vertical-align: top;\n",
       "    }\n",
       "\n",
       "    .dataframe thead th {\n",
       "        text-align: right;\n",
       "    }\n",
       "</style>\n",
       "<table border=\"1\" class=\"dataframe\">\n",
       "  <thead>\n",
       "    <tr style=\"text-align: right;\">\n",
       "      <th></th>\n",
       "      <th>asin</th>\n",
       "      <th>title</th>\n",
       "    </tr>\n",
       "  </thead>\n",
       "  <tbody>\n",
       "    <tr>\n",
       "      <th>0</th>\n",
       "      <td>A1</td>\n",
       "      <td>Hello World</td>\n",
       "    </tr>\n",
       "    <tr>\n",
       "      <th>1</th>\n",
       "      <td>A2</td>\n",
       "      <td>Hello Python</td>\n",
       "    </tr>\n",
       "    <tr>\n",
       "      <th>2</th>\n",
       "      <td>AB3</td>\n",
       "      <td>Python Tutorial</td>\n",
       "    </tr>\n",
       "    <tr>\n",
       "      <th>3</th>\n",
       "      <td>B4</td>\n",
       "      <td>Java Tutorial</td>\n",
       "    </tr>\n",
       "    <tr>\n",
       "      <th>4</th>\n",
       "      <td>B5</td>\n",
       "      <td>C++ Tutorial</td>\n",
       "    </tr>\n",
       "  </tbody>\n",
       "</table>\n",
       "</div>"
      ],
      "text/plain": [
       "  asin            title\n",
       "0   A1      Hello World\n",
       "1   A2     Hello Python\n",
       "2  AB3  Python Tutorial\n",
       "3   B4    Java Tutorial\n",
       "4   B5     C++ Tutorial"
      ]
     },
     "execution_count": 2,
     "metadata": {},
     "output_type": "execute_result"
    }
   ],
   "source": [
    "## Sample Data\n",
    "\n",
    "metadata = pd.DataFrame({\n",
    "    'asin': ['A1', 'A2', 'AB3', 'B4', 'B5'],\n",
    "    'title': ['Hello World', 'Hello Python', 'Python Tutorial', 'Java Tutorial', 'C++ Tutorial']\n",
    "})\n",
    "metadata"
   ]
  },
  {
   "cell_type": "code",
   "execution_count": 3,
   "metadata": {},
   "outputs": [
    {
     "data": {
      "text/html": [
       "<div>\n",
       "<style scoped>\n",
       "    .dataframe tbody tr th:only-of-type {\n",
       "        vertical-align: middle;\n",
       "    }\n",
       "\n",
       "    .dataframe tbody tr th {\n",
       "        vertical-align: top;\n",
       "    }\n",
       "\n",
       "    .dataframe thead th {\n",
       "        text-align: right;\n",
       "    }\n",
       "</style>\n",
       "<table border=\"1\" class=\"dataframe\">\n",
       "  <thead>\n",
       "    <tr style=\"text-align: right;\">\n",
       "      <th></th>\n",
       "      <th>asin</th>\n",
       "      <th>reviewerID</th>\n",
       "      <th>overall</th>\n",
       "      <th>unixReviewTime</th>\n",
       "      <th>DATE</th>\n",
       "    </tr>\n",
       "  </thead>\n",
       "  <tbody>\n",
       "    <tr>\n",
       "      <th>0</th>\n",
       "      <td>A1</td>\n",
       "      <td>USER1</td>\n",
       "      <td>5</td>\n",
       "      <td>1424304000</td>\n",
       "      <td>2015-02-19</td>\n",
       "    </tr>\n",
       "    <tr>\n",
       "      <th>1</th>\n",
       "      <td>AB3</td>\n",
       "      <td>USER1</td>\n",
       "      <td>5</td>\n",
       "      <td>1424304000</td>\n",
       "      <td>2015-02-19</td>\n",
       "    </tr>\n",
       "    <tr>\n",
       "      <th>2</th>\n",
       "      <td>B4</td>\n",
       "      <td>USER2</td>\n",
       "      <td>5</td>\n",
       "      <td>1424304000</td>\n",
       "      <td>2015-02-19</td>\n",
       "    </tr>\n",
       "    <tr>\n",
       "      <th>3</th>\n",
       "      <td>AB3</td>\n",
       "      <td>USER2</td>\n",
       "      <td>5</td>\n",
       "      <td>1424304000</td>\n",
       "      <td>2015-02-19</td>\n",
       "    </tr>\n",
       "    <tr>\n",
       "      <th>4</th>\n",
       "      <td>A1</td>\n",
       "      <td>USER1</td>\n",
       "      <td>5</td>\n",
       "      <td>1537315200</td>\n",
       "      <td>2018-09-19</td>\n",
       "    </tr>\n",
       "    <tr>\n",
       "      <th>5</th>\n",
       "      <td>A2</td>\n",
       "      <td>USER1</td>\n",
       "      <td>5</td>\n",
       "      <td>1537315200</td>\n",
       "      <td>2018-09-19</td>\n",
       "    </tr>\n",
       "    <tr>\n",
       "      <th>6</th>\n",
       "      <td>B5</td>\n",
       "      <td>USER2</td>\n",
       "      <td>5</td>\n",
       "      <td>1537315200</td>\n",
       "      <td>2018-09-19</td>\n",
       "    </tr>\n",
       "    <tr>\n",
       "      <th>7</th>\n",
       "      <td>AB3</td>\n",
       "      <td>USER2</td>\n",
       "      <td>5</td>\n",
       "      <td>1537315200</td>\n",
       "      <td>2018-09-19</td>\n",
       "    </tr>\n",
       "  </tbody>\n",
       "</table>\n",
       "</div>"
      ],
      "text/plain": [
       "  asin reviewerID  overall  unixReviewTime        DATE\n",
       "0   A1      USER1        5      1424304000  2015-02-19\n",
       "1  AB3      USER1        5      1424304000  2015-02-19\n",
       "2   B4      USER2        5      1424304000  2015-02-19\n",
       "3  AB3      USER2        5      1424304000  2015-02-19\n",
       "4   A1      USER1        5      1537315200  2018-09-19\n",
       "5   A2      USER1        5      1537315200  2018-09-19\n",
       "6   B5      USER2        5      1537315200  2018-09-19\n",
       "7  AB3      USER2        5      1537315200  2018-09-19"
      ]
     },
     "execution_count": 3,
     "metadata": {},
     "output_type": "execute_result"
    }
   ],
   "source": [
    "ratings = pd.DataFrame([\n",
    "    {'asin': 'A1','reviewerID': 'USER1', 'overall': 5, 'unixReviewTime': 1424304000 ,'DATE': '2015-02-19'},\n",
    "    {'asin': 'AB3','reviewerID': 'USER1', 'overall': 5, 'unixReviewTime': 1424304000 ,'DATE': '2015-02-19'},\n",
    "    {'asin': 'B4','reviewerID': 'USER2', 'overall': 5, 'unixReviewTime': 1424304000 ,'DATE': '2015-02-19'},\n",
    "    {'asin': 'AB3','reviewerID': 'USER2', 'overall': 5, 'unixReviewTime': 1424304000 ,'DATE': '2015-02-19'},\n",
    "    {'asin': 'A1','reviewerID': 'USER1', 'overall': 5, 'unixReviewTime': 1537315200 ,'DATE': '2018-09-19'},\n",
    "    {'asin': 'A2','reviewerID': 'USER1', 'overall': 5, 'unixReviewTime': 1537315200 ,'DATE': '2018-09-19'},\n",
    "    {'asin': 'B5','reviewerID': 'USER2', 'overall': 5, 'unixReviewTime': 1537315200 ,'DATE': '2018-09-19'},\n",
    "    {'asin': 'AB3','reviewerID': 'USER2', 'overall': 5, 'unixReviewTime': 1537315200 ,'DATE': '2018-09-19'},\n",
    "])\n",
    "ratings"
   ]
  },
  {
   "cell_type": "code",
   "execution_count": 4,
   "metadata": {},
   "outputs": [
    {
     "data": {
      "text/html": [
       "<div>\n",
       "<style scoped>\n",
       "    .dataframe tbody tr th:only-of-type {\n",
       "        vertical-align: middle;\n",
       "    }\n",
       "\n",
       "    .dataframe tbody tr th {\n",
       "        vertical-align: top;\n",
       "    }\n",
       "\n",
       "    .dataframe thead th {\n",
       "        text-align: right;\n",
       "    }\n",
       "</style>\n",
       "<table border=\"1\" class=\"dataframe\">\n",
       "  <thead>\n",
       "    <tr style=\"text-align: right;\">\n",
       "      <th></th>\n",
       "      <th>asin</th>\n",
       "      <th>title</th>\n",
       "    </tr>\n",
       "  </thead>\n",
       "  <tbody>\n",
       "    <tr>\n",
       "      <th>0</th>\n",
       "      <td>A1</td>\n",
       "      <td>Hello World</td>\n",
       "    </tr>\n",
       "    <tr>\n",
       "      <th>1</th>\n",
       "      <td>A2</td>\n",
       "      <td>Hello Python</td>\n",
       "    </tr>\n",
       "    <tr>\n",
       "      <th>2</th>\n",
       "      <td>AB3</td>\n",
       "      <td>Python Tutorial</td>\n",
       "    </tr>\n",
       "    <tr>\n",
       "      <th>3</th>\n",
       "      <td>B4</td>\n",
       "      <td>Java Tutorial</td>\n",
       "    </tr>\n",
       "    <tr>\n",
       "      <th>4</th>\n",
       "      <td>B5</td>\n",
       "      <td>C++ Tutorial</td>\n",
       "    </tr>\n",
       "  </tbody>\n",
       "</table>\n",
       "</div>"
      ],
      "text/plain": [
       "  asin            title\n",
       "0   A1      Hello World\n",
       "1   A2     Hello Python\n",
       "2  AB3  Python Tutorial\n",
       "3   B4    Java Tutorial\n",
       "4   B5     C++ Tutorial"
      ]
     },
     "execution_count": 4,
     "metadata": {},
     "output_type": "execute_result"
    }
   ],
   "source": [
    "metadata.head()"
   ]
  },
  {
   "cell_type": "code",
   "execution_count": 5,
   "metadata": {},
   "outputs": [
    {
     "data": {
      "text/html": [
       "<div>\n",
       "<style scoped>\n",
       "    .dataframe tbody tr th:only-of-type {\n",
       "        vertical-align: middle;\n",
       "    }\n",
       "\n",
       "    .dataframe tbody tr th {\n",
       "        vertical-align: top;\n",
       "    }\n",
       "\n",
       "    .dataframe thead th {\n",
       "        text-align: right;\n",
       "    }\n",
       "</style>\n",
       "<table border=\"1\" class=\"dataframe\">\n",
       "  <thead>\n",
       "    <tr style=\"text-align: right;\">\n",
       "      <th></th>\n",
       "      <th>asin</th>\n",
       "      <th>reviewerID</th>\n",
       "      <th>overall</th>\n",
       "      <th>unixReviewTime</th>\n",
       "      <th>DATE</th>\n",
       "    </tr>\n",
       "  </thead>\n",
       "  <tbody>\n",
       "    <tr>\n",
       "      <th>0</th>\n",
       "      <td>A1</td>\n",
       "      <td>USER1</td>\n",
       "      <td>5</td>\n",
       "      <td>1424304000</td>\n",
       "      <td>2015-02-19</td>\n",
       "    </tr>\n",
       "    <tr>\n",
       "      <th>1</th>\n",
       "      <td>AB3</td>\n",
       "      <td>USER1</td>\n",
       "      <td>5</td>\n",
       "      <td>1424304000</td>\n",
       "      <td>2015-02-19</td>\n",
       "    </tr>\n",
       "    <tr>\n",
       "      <th>2</th>\n",
       "      <td>B4</td>\n",
       "      <td>USER2</td>\n",
       "      <td>5</td>\n",
       "      <td>1424304000</td>\n",
       "      <td>2015-02-19</td>\n",
       "    </tr>\n",
       "    <tr>\n",
       "      <th>3</th>\n",
       "      <td>AB3</td>\n",
       "      <td>USER2</td>\n",
       "      <td>5</td>\n",
       "      <td>1424304000</td>\n",
       "      <td>2015-02-19</td>\n",
       "    </tr>\n",
       "    <tr>\n",
       "      <th>4</th>\n",
       "      <td>A1</td>\n",
       "      <td>USER1</td>\n",
       "      <td>5</td>\n",
       "      <td>1537315200</td>\n",
       "      <td>2018-09-19</td>\n",
       "    </tr>\n",
       "  </tbody>\n",
       "</table>\n",
       "</div>"
      ],
      "text/plain": [
       "  asin reviewerID  overall  unixReviewTime        DATE\n",
       "0   A1      USER1        5      1424304000  2015-02-19\n",
       "1  AB3      USER1        5      1424304000  2015-02-19\n",
       "2   B4      USER2        5      1424304000  2015-02-19\n",
       "3  AB3      USER2        5      1424304000  2015-02-19\n",
       "4   A1      USER1        5      1537315200  2018-09-19"
      ]
     },
     "execution_count": 5,
     "metadata": {},
     "output_type": "execute_result"
    }
   ],
   "source": [
    "ratings.head()"
   ]
  },
  {
   "cell_type": "markdown",
   "metadata": {},
   "source": [
    "## 資料整理"
   ]
  },
  {
   "cell_type": "code",
   "execution_count": 6,
   "metadata": {},
   "outputs": [],
   "source": [
    "ratings['DATE'] = pd.to_datetime(ratings['unixReviewTime'], unit='s')"
   ]
  },
  {
   "cell_type": "markdown",
   "metadata": {},
   "source": [
    "## 資料切分"
   ]
  },
  {
   "cell_type": "code",
   "execution_count": 7,
   "metadata": {},
   "outputs": [],
   "source": [
    "ratings_trainings = ratings[\n",
    "    (ratings['DATE'] < '2018-09-01')\n",
    "]\n",
    "ratings_testings = ratings[\n",
    "    (ratings['DATE'] >= '2018-09-01') & \n",
    "    (ratings['DATE'] <= '2018-09-30')\n",
    "]\n",
    "ratings_testings_by_user = ratings_testings.groupby('reviewerID').agg(list).reset_index()[['reviewerID', 'asin']].to_dict('records')\n",
    "ratings_testings_by_user = { rating['reviewerID']: rating['asin'] for rating in ratings_testings_by_user }\n",
    "users = list(ratings_testings_by_user.keys())"
   ]
  },
  {
   "cell_type": "code",
   "execution_count": 8,
   "metadata": {},
   "outputs": [
    {
     "data": {
      "text/html": [
       "<div>\n",
       "<style scoped>\n",
       "    .dataframe tbody tr th:only-of-type {\n",
       "        vertical-align: middle;\n",
       "    }\n",
       "\n",
       "    .dataframe tbody tr th {\n",
       "        vertical-align: top;\n",
       "    }\n",
       "\n",
       "    .dataframe thead th {\n",
       "        text-align: right;\n",
       "    }\n",
       "</style>\n",
       "<table border=\"1\" class=\"dataframe\">\n",
       "  <thead>\n",
       "    <tr style=\"text-align: right;\">\n",
       "      <th></th>\n",
       "      <th>asin</th>\n",
       "      <th>reviewerID</th>\n",
       "      <th>overall</th>\n",
       "      <th>unixReviewTime</th>\n",
       "      <th>DATE</th>\n",
       "    </tr>\n",
       "  </thead>\n",
       "  <tbody>\n",
       "    <tr>\n",
       "      <th>0</th>\n",
       "      <td>A1</td>\n",
       "      <td>USER1</td>\n",
       "      <td>5</td>\n",
       "      <td>1424304000</td>\n",
       "      <td>2015-02-19</td>\n",
       "    </tr>\n",
       "    <tr>\n",
       "      <th>1</th>\n",
       "      <td>AB3</td>\n",
       "      <td>USER1</td>\n",
       "      <td>5</td>\n",
       "      <td>1424304000</td>\n",
       "      <td>2015-02-19</td>\n",
       "    </tr>\n",
       "    <tr>\n",
       "      <th>2</th>\n",
       "      <td>B4</td>\n",
       "      <td>USER2</td>\n",
       "      <td>5</td>\n",
       "      <td>1424304000</td>\n",
       "      <td>2015-02-19</td>\n",
       "    </tr>\n",
       "    <tr>\n",
       "      <th>3</th>\n",
       "      <td>AB3</td>\n",
       "      <td>USER2</td>\n",
       "      <td>5</td>\n",
       "      <td>1424304000</td>\n",
       "      <td>2015-02-19</td>\n",
       "    </tr>\n",
       "  </tbody>\n",
       "</table>\n",
       "</div>"
      ],
      "text/plain": [
       "  asin reviewerID  overall  unixReviewTime       DATE\n",
       "0   A1      USER1        5      1424304000 2015-02-19\n",
       "1  AB3      USER1        5      1424304000 2015-02-19\n",
       "2   B4      USER2        5      1424304000 2015-02-19\n",
       "3  AB3      USER2        5      1424304000 2015-02-19"
      ]
     },
     "execution_count": 8,
     "metadata": {},
     "output_type": "execute_result"
    }
   ],
   "source": [
    "ratings_trainings"
   ]
  },
  {
   "cell_type": "code",
   "execution_count": 9,
   "metadata": {},
   "outputs": [
    {
     "data": {
      "text/html": [
       "<div>\n",
       "<style scoped>\n",
       "    .dataframe tbody tr th:only-of-type {\n",
       "        vertical-align: middle;\n",
       "    }\n",
       "\n",
       "    .dataframe tbody tr th {\n",
       "        vertical-align: top;\n",
       "    }\n",
       "\n",
       "    .dataframe thead th {\n",
       "        text-align: right;\n",
       "    }\n",
       "</style>\n",
       "<table border=\"1\" class=\"dataframe\">\n",
       "  <thead>\n",
       "    <tr style=\"text-align: right;\">\n",
       "      <th></th>\n",
       "      <th>asin</th>\n",
       "      <th>reviewerID</th>\n",
       "      <th>overall</th>\n",
       "      <th>unixReviewTime</th>\n",
       "      <th>DATE</th>\n",
       "    </tr>\n",
       "  </thead>\n",
       "  <tbody>\n",
       "    <tr>\n",
       "      <th>4</th>\n",
       "      <td>A1</td>\n",
       "      <td>USER1</td>\n",
       "      <td>5</td>\n",
       "      <td>1537315200</td>\n",
       "      <td>2018-09-19</td>\n",
       "    </tr>\n",
       "    <tr>\n",
       "      <th>5</th>\n",
       "      <td>A2</td>\n",
       "      <td>USER1</td>\n",
       "      <td>5</td>\n",
       "      <td>1537315200</td>\n",
       "      <td>2018-09-19</td>\n",
       "    </tr>\n",
       "    <tr>\n",
       "      <th>6</th>\n",
       "      <td>B5</td>\n",
       "      <td>USER2</td>\n",
       "      <td>5</td>\n",
       "      <td>1537315200</td>\n",
       "      <td>2018-09-19</td>\n",
       "    </tr>\n",
       "    <tr>\n",
       "      <th>7</th>\n",
       "      <td>AB3</td>\n",
       "      <td>USER2</td>\n",
       "      <td>5</td>\n",
       "      <td>1537315200</td>\n",
       "      <td>2018-09-19</td>\n",
       "    </tr>\n",
       "  </tbody>\n",
       "</table>\n",
       "</div>"
      ],
      "text/plain": [
       "  asin reviewerID  overall  unixReviewTime       DATE\n",
       "4   A1      USER1        5      1537315200 2018-09-19\n",
       "5   A2      USER1        5      1537315200 2018-09-19\n",
       "6   B5      USER2        5      1537315200 2018-09-19\n",
       "7  AB3      USER2        5      1537315200 2018-09-19"
      ]
     },
     "execution_count": 9,
     "metadata": {},
     "output_type": "execute_result"
    }
   ],
   "source": [
    "ratings_testings"
   ]
  },
  {
   "cell_type": "code",
   "execution_count": 10,
   "metadata": {},
   "outputs": [
    {
     "data": {
      "text/plain": [
       "['USER1', 'USER2']"
      ]
     },
     "execution_count": 10,
     "metadata": {},
     "output_type": "execute_result"
    }
   ],
   "source": [
    "users"
   ]
  },
  {
   "cell_type": "code",
   "execution_count": 11,
   "metadata": {
    "scrolled": true
   },
   "outputs": [
    {
     "data": {
      "text/plain": [
       "{'USER1': ['A1', 'A2'], 'USER2': ['B5', 'AB3']}"
      ]
     },
     "execution_count": 11,
     "metadata": {},
     "output_type": "execute_result"
    }
   ],
   "source": [
    "ratings_testings_by_user"
   ]
  },
  {
   "cell_type": "markdown",
   "metadata": {},
   "source": [
    "## 產生推薦"
   ]
  },
  {
   "cell_type": "code",
   "execution_count": 12,
   "metadata": {},
   "outputs": [
    {
     "data": {
      "text/plain": [
       "{}"
      ]
     },
     "execution_count": 12,
     "metadata": {},
     "output_type": "execute_result"
    }
   ],
   "source": [
    "def recommender(training_data, users=[], k=2):\n",
    "    '''\n",
    "    * training_data: dataframe 輸入的訓練資料集（2018-09-01 以前資料）\n",
    "    * users: [] 需要被推薦的使用者\n",
    "    * k: int 每個使用者需要推薦的商品數\n",
    "    * recommendations: dict\n",
    "      {\n",
    "          使用者一： [推薦商品一, 推薦商品二, ...],\n",
    "          使用者二： [...], ...\n",
    "      }\n",
    "    '''\n",
    "    recommendations = {}\n",
    "    '''\n",
    "    Your Code\n",
    "    '''\n",
    "    return recommendations\n",
    "\n",
    "ratings_by_user = recommender(ratings_trainings, users)\n",
    "ratings_by_user"
   ]
  },
  {
   "cell_type": "markdown",
   "metadata": {},
   "source": [
    "## 結果評估"
   ]
  },
  {
   "cell_type": "code",
   "execution_count": 13,
   "metadata": {},
   "outputs": [
    {
     "data": {
      "text/plain": [
       "0.0"
      ]
     },
     "execution_count": 13,
     "metadata": {},
     "output_type": "execute_result"
    }
   ],
   "source": [
    "def evaluate(ratings_testings_by_user={}, ratings_by_user={}, method=None):\n",
    "    '''\n",
    "    * ratings_testings_by_user: dict 真實被購買的商品資料（2018-09-01 以後資料）\n",
    "    * ratings_by_user: dict 利用訓練資料學習的推薦商品\n",
    "    * method: str\n",
    "    * score: float\n",
    "    '''\n",
    "    total = 0\n",
    "    for d in ratings_testings_by_user:\n",
    "        if d in ratings_by_user:\n",
    "            total += len(set(ratings_by_user[d]) & set(ratings_testings_by_user[d]))\n",
    "\n",
    "    score = total / len(ratings_testings)\n",
    "    return score\n",
    "\n",
    "evaluate(ratings_testings_by_user, ratings_by_user)"
   ]
  },
  {
   "cell_type": "code",
   "execution_count": 14,
   "metadata": {},
   "outputs": [
    {
     "data": {
      "text/plain": [
       "{'USER1': ['A1', 'A2'], 'USER2': ['B5', 'AB3']}"
      ]
     },
     "execution_count": 14,
     "metadata": {},
     "output_type": "execute_result"
    }
   ],
   "source": [
    "ratings_testings_by_user"
   ]
  },
  {
   "cell_type": "code",
   "execution_count": 15,
   "metadata": {},
   "outputs": [
    {
     "data": {
      "text/plain": [
       "{}"
      ]
     },
     "execution_count": 15,
     "metadata": {},
     "output_type": "execute_result"
    }
   ],
   "source": [
    "ratings_by_user"
   ]
  },
  {
   "cell_type": "code",
   "execution_count": null,
   "metadata": {},
   "outputs": [],
   "source": []
  }
 ],
 "metadata": {
  "kernelspec": {
   "display_name": "Python 3",
   "language": "python",
   "name": "python3"
  },
  "language_info": {
   "codemirror_mode": {
    "name": "ipython",
    "version": 3
   },
   "file_extension": ".py",
   "mimetype": "text/x-python",
   "name": "python",
   "nbconvert_exporter": "python",
   "pygments_lexer": "ipython3",
   "version": "3.6.5"
  }
 },
 "nbformat": 4,
 "nbformat_minor": 5
}
